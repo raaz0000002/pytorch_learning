{
  "nbformat": 4,
  "nbformat_minor": 0,
  "metadata": {
    "colab": {
      "provenance": [],
      "mount_file_id": "18DdPBT8ygaAKaS7-7F4M86kKL6UT4RH6",
      "authorship_tag": "ABX9TyPiq5V96QhEAfitRSqQod3b",
      "include_colab_link": true
    },
    "kernelspec": {
      "name": "python3",
      "display_name": "Python 3"
    },
    "language_info": {
      "name": "python"
    }
  },
  "cells": [
    {
      "cell_type": "markdown",
      "metadata": {
        "id": "view-in-github",
        "colab_type": "text"
      },
      "source": [
        "<a href=\"https://colab.research.google.com/github/raaz0000002/pytorch_learning/blob/main/Tiles_Creating.ipynb\" target=\"_parent\"><img src=\"https://colab.research.google.com/assets/colab-badge.svg\" alt=\"Open In Colab\"/></a>"
      ]
    },
    {
      "cell_type": "code",
      "execution_count": null,
      "metadata": {
        "colab": {
          "base_uri": "https://localhost:8080/"
        },
        "id": "3HeHl5j8Req_",
        "outputId": "f9057873-6046-4962-9a19-c1f3eb3c43ba"
      },
      "outputs": [
        {
          "output_type": "stream",
          "name": "stdout",
          "text": [
            "Requirement already satisfied: scikit-image in /usr/local/lib/python3.11/dist-packages (0.25.2)\n",
            "Requirement already satisfied: numpy>=1.24 in /usr/local/lib/python3.11/dist-packages (from scikit-image) (2.0.2)\n",
            "Requirement already satisfied: scipy>=1.11.4 in /usr/local/lib/python3.11/dist-packages (from scikit-image) (1.15.2)\n",
            "Requirement already satisfied: networkx>=3.0 in /usr/local/lib/python3.11/dist-packages (from scikit-image) (3.4.2)\n",
            "Requirement already satisfied: pillow>=10.1 in /usr/local/lib/python3.11/dist-packages (from scikit-image) (11.2.1)\n",
            "Requirement already satisfied: imageio!=2.35.0,>=2.33 in /usr/local/lib/python3.11/dist-packages (from scikit-image) (2.37.0)\n",
            "Requirement already satisfied: tifffile>=2022.8.12 in /usr/local/lib/python3.11/dist-packages (from scikit-image) (2025.3.30)\n",
            "Requirement already satisfied: packaging>=21 in /usr/local/lib/python3.11/dist-packages (from scikit-image) (24.2)\n",
            "Requirement already satisfied: lazy-loader>=0.4 in /usr/local/lib/python3.11/dist-packages (from scikit-image) (0.4)\n"
          ]
        }
      ],
      "source": [
        "pip install scikit-image\n"
      ]
    },
    {
      "cell_type": "code",
      "source": [
        "!pip install gdown\n"
      ],
      "metadata": {
        "colab": {
          "base_uri": "https://localhost:8080/"
        },
        "id": "WnpsvDjoVCkv",
        "outputId": "be5a67b9-50e7-44ea-9bbf-813ebe6a531a"
      },
      "execution_count": null,
      "outputs": [
        {
          "output_type": "stream",
          "name": "stdout",
          "text": [
            "Requirement already satisfied: gdown in /usr/local/lib/python3.11/dist-packages (5.2.0)\n",
            "Requirement already satisfied: beautifulsoup4 in /usr/local/lib/python3.11/dist-packages (from gdown) (4.13.4)\n",
            "Requirement already satisfied: filelock in /usr/local/lib/python3.11/dist-packages (from gdown) (3.18.0)\n",
            "Requirement already satisfied: requests[socks] in /usr/local/lib/python3.11/dist-packages (from gdown) (2.32.3)\n",
            "Requirement already satisfied: tqdm in /usr/local/lib/python3.11/dist-packages (from gdown) (4.67.1)\n",
            "Requirement already satisfied: soupsieve>1.2 in /usr/local/lib/python3.11/dist-packages (from beautifulsoup4->gdown) (2.7)\n",
            "Requirement already satisfied: typing-extensions>=4.0.0 in /usr/local/lib/python3.11/dist-packages (from beautifulsoup4->gdown) (4.13.2)\n",
            "Requirement already satisfied: charset-normalizer<4,>=2 in /usr/local/lib/python3.11/dist-packages (from requests[socks]->gdown) (3.4.1)\n",
            "Requirement already satisfied: idna<4,>=2.5 in /usr/local/lib/python3.11/dist-packages (from requests[socks]->gdown) (3.10)\n",
            "Requirement already satisfied: urllib3<3,>=1.21.1 in /usr/local/lib/python3.11/dist-packages (from requests[socks]->gdown) (2.4.0)\n",
            "Requirement already satisfied: certifi>=2017.4.17 in /usr/local/lib/python3.11/dist-packages (from requests[socks]->gdown) (2025.4.26)\n",
            "Requirement already satisfied: PySocks!=1.5.7,>=1.5.6 in /usr/local/lib/python3.11/dist-packages (from requests[socks]->gdown) (1.7.1)\n"
          ]
        }
      ]
    },
    {
      "cell_type": "code",
      "source": [
        "pip install rasterio\n"
      ],
      "metadata": {
        "colab": {
          "base_uri": "https://localhost:8080/"
        },
        "id": "Eh8oXo3BXXuc",
        "outputId": "74f4275a-1f26-4784-eb97-2d3158b91a41"
      },
      "execution_count": null,
      "outputs": [
        {
          "output_type": "stream",
          "name": "stdout",
          "text": [
            "Collecting rasterio\n",
            "  Downloading rasterio-1.4.3-cp311-cp311-manylinux_2_17_x86_64.manylinux2014_x86_64.whl.metadata (9.1 kB)\n",
            "Collecting affine (from rasterio)\n",
            "  Downloading affine-2.4.0-py3-none-any.whl.metadata (4.0 kB)\n",
            "Requirement already satisfied: attrs in /usr/local/lib/python3.11/dist-packages (from rasterio) (25.3.0)\n",
            "Requirement already satisfied: certifi in /usr/local/lib/python3.11/dist-packages (from rasterio) (2025.4.26)\n",
            "Requirement already satisfied: click>=4.0 in /usr/local/lib/python3.11/dist-packages (from rasterio) (8.1.8)\n",
            "Collecting cligj>=0.5 (from rasterio)\n",
            "  Downloading cligj-0.7.2-py3-none-any.whl.metadata (5.0 kB)\n",
            "Requirement already satisfied: numpy>=1.24 in /usr/local/lib/python3.11/dist-packages (from rasterio) (2.0.2)\n",
            "Collecting click-plugins (from rasterio)\n",
            "  Downloading click_plugins-1.1.1-py2.py3-none-any.whl.metadata (6.4 kB)\n",
            "Requirement already satisfied: pyparsing in /usr/local/lib/python3.11/dist-packages (from rasterio) (3.2.3)\n",
            "Downloading rasterio-1.4.3-cp311-cp311-manylinux_2_17_x86_64.manylinux2014_x86_64.whl (22.2 MB)\n",
            "\u001b[2K   \u001b[90m━━━━━━━━━━━━━━━━━━━━━━━━━━━━━━━━━━━━━━━━\u001b[0m \u001b[32m22.2/22.2 MB\u001b[0m \u001b[31m20.9 MB/s\u001b[0m eta \u001b[36m0:00:00\u001b[0m\n",
            "\u001b[?25hDownloading cligj-0.7.2-py3-none-any.whl (7.1 kB)\n",
            "Downloading affine-2.4.0-py3-none-any.whl (15 kB)\n",
            "Downloading click_plugins-1.1.1-py2.py3-none-any.whl (7.5 kB)\n",
            "Installing collected packages: cligj, click-plugins, affine, rasterio\n",
            "Successfully installed affine-2.4.0 click-plugins-1.1.1 cligj-0.7.2 rasterio-1.4.3\n"
          ]
        }
      ]
    },
    {
      "cell_type": "code",
      "source": [
        "import os\n",
        "import numpy as np\n",
        "import rasterio\n",
        "from rasterio.windows import Window\n",
        "from tqdm import tqdm\n",
        "\n",
        "def create_tiles_tif(image_path, output_dir, tile_size=(512,512), prefix=\"tile\"):\n",
        "    \"\"\"\n",
        "    Splits a TIFF image into smaller tiles and saves them as .tif files.\n",
        "\n",
        "    Args:\n",
        "        image_path (str): Path to input .tif image.\n",
        "        output_dir (str): Directory to save tiles.\n",
        "        tile_size (tuple): Size of each tile (height, width).\n",
        "        prefix (str): Prefix for tile filenames.\n",
        "    \"\"\"\n",
        "    os.makedirs(output_dir, exist_ok=True)\n",
        "\n",
        "    with rasterio.open(image_path) as src:\n",
        "        width = src.width\n",
        "        height = src.height\n",
        "        num_bands = src.count\n",
        "        profile = src.profile\n",
        "\n",
        "        tile_height, tile_width = tile_size\n",
        "        tile_id = 0\n",
        "\n",
        "        for top in tqdm(range(0, height, tile_height), desc=\"Creating Tiles\"):\n",
        "            for left in range(0, width, tile_width):\n",
        "                # Ensure tile doesn't exceed bounds\n",
        "                w = min(tile_width, width - left)\n",
        "                h = min(tile_height, height - top)\n",
        "\n",
        "                window = Window(left, top, w, h)\n",
        "                transform = src.window_transform(window)\n",
        "                tile_data = src.read(window=window)\n",
        "\n",
        "                # Update profile for tile\n",
        "                tile_profile = profile.copy()\n",
        "                tile_profile.update({\n",
        "                    'height': h,\n",
        "                    'width': w,\n",
        "                    'transform': transform\n",
        "                })\n",
        "\n",
        "                tile_filename = os.path.join(output_dir, f\"{prefix}_{tile_id:04d}.tif\")\n",
        "                with rasterio.open(tile_filename, 'w', **tile_profile) as dst:\n",
        "                    dst.write(tile_data)\n",
        "\n",
        "                tile_id += 1\n",
        "\n",
        "\n"
      ],
      "metadata": {
        "id": "7oi4s6uESdbV"
      },
      "execution_count": null,
      "outputs": []
    },
    {
      "cell_type": "code",
      "source": [
        "import gdown\n",
        "file_id = \"1UIJOqsp1cWhnIfFbL3XF1CerfqAc_7U1\"\n",
        "url = f\"https://drive.google.com/uc?id={file_id}\"\n",
        "output = \"/content/satellite_image.tif\"\n",
        "\n",
        "gdown.download(url, output, quiet=False)\n"
      ],
      "metadata": {
        "colab": {
          "base_uri": "https://localhost:8080/",
          "height": 142
        },
        "id": "GwJHp3mihkjR",
        "outputId": "268e8d4a-2b1d-49e5-dcc5-77cff8345bba"
      },
      "execution_count": null,
      "outputs": [
        {
          "output_type": "stream",
          "name": "stderr",
          "text": [
            "Downloading...\n",
            "From (original): https://drive.google.com/uc?id=1UIJOqsp1cWhnIfFbL3XF1CerfqAc_7U1\n",
            "From (redirected): https://drive.google.com/uc?id=1UIJOqsp1cWhnIfFbL3XF1CerfqAc_7U1&confirm=t&uuid=e3bccb28-0d3f-4253-9184-83a1f12cb1cb\n",
            "To: /content/satellite_image.tif\n",
            "100%|██████████| 6.90G/6.90G [01:50<00:00, 62.4MB/s]\n"
          ]
        },
        {
          "output_type": "execute_result",
          "data": {
            "text/plain": [
              "'/content/satellite_image.tif'"
            ],
            "application/vnd.google.colaboratory.intrinsic+json": {
              "type": "string"
            }
          },
          "metadata": {},
          "execution_count": 5
        }
      ]
    },
    {
      "cell_type": "code",
      "source": [
        "import os\n",
        "import gdown\n",
        "\n",
        "# Step 2: Tile output folder\n",
        "output_tiles_folder = \"/content/drive/MyDrive/Ideathon/Untitled Folder\"\n",
        "\n",
        "# Step 3: Call the tiling function\n",
        "create_tiles_tif(output, output_tiles_folder)\n",
        "\n"
      ],
      "metadata": {
        "colab": {
          "base_uri": "https://localhost:8080/",
          "height": 426
        },
        "id": "XGTkbFOOTnxe",
        "outputId": "8b3f13b7-b68f-4aa3-cbf0-44b0d51134da"
      },
      "execution_count": null,
      "outputs": [
        {
          "output_type": "stream",
          "name": "stderr",
          "text": [
            "Creating Tiles:   8%|▊         | 12/158 [00:44<08:59,  3.70s/it]\n"
          ]
        },
        {
          "output_type": "error",
          "ename": "KeyboardInterrupt",
          "evalue": "",
          "traceback": [
            "\u001b[0;31m---------------------------------------------------------------------------\u001b[0m",
            "\u001b[0;31mKeyboardInterrupt\u001b[0m                         Traceback (most recent call last)",
            "\u001b[0;32m<ipython-input-6-d0c3c5f7f4cb>\u001b[0m in \u001b[0;36m<cell line: 0>\u001b[0;34m()\u001b[0m\n\u001b[1;32m      6\u001b[0m \u001b[0;34m\u001b[0m\u001b[0m\n\u001b[1;32m      7\u001b[0m \u001b[0;31m# Step 3: Call the tiling function\u001b[0m\u001b[0;34m\u001b[0m\u001b[0;34m\u001b[0m\u001b[0m\n\u001b[0;32m----> 8\u001b[0;31m \u001b[0mcreate_tiles_tif\u001b[0m\u001b[0;34m(\u001b[0m\u001b[0moutput\u001b[0m\u001b[0;34m,\u001b[0m \u001b[0moutput_tiles_folder\u001b[0m\u001b[0;34m)\u001b[0m\u001b[0;34m\u001b[0m\u001b[0;34m\u001b[0m\u001b[0m\n\u001b[0m\u001b[1;32m      9\u001b[0m \u001b[0;34m\u001b[0m\u001b[0m\n",
            "\u001b[0;32m<ipython-input-4-9e0c8a9dcbcc>\u001b[0m in \u001b[0;36mcreate_tiles_tif\u001b[0;34m(image_path, output_dir, tile_size, prefix)\u001b[0m\n\u001b[1;32m     45\u001b[0m \u001b[0;34m\u001b[0m\u001b[0m\n\u001b[1;32m     46\u001b[0m                 \u001b[0mtile_filename\u001b[0m \u001b[0;34m=\u001b[0m \u001b[0mos\u001b[0m\u001b[0;34m.\u001b[0m\u001b[0mpath\u001b[0m\u001b[0;34m.\u001b[0m\u001b[0mjoin\u001b[0m\u001b[0;34m(\u001b[0m\u001b[0moutput_dir\u001b[0m\u001b[0;34m,\u001b[0m \u001b[0;34mf\"{prefix}_{tile_id:04d}.tif\"\u001b[0m\u001b[0;34m)\u001b[0m\u001b[0;34m\u001b[0m\u001b[0;34m\u001b[0m\u001b[0m\n\u001b[0;32m---> 47\u001b[0;31m                 \u001b[0;32mwith\u001b[0m \u001b[0mrasterio\u001b[0m\u001b[0;34m.\u001b[0m\u001b[0mopen\u001b[0m\u001b[0;34m(\u001b[0m\u001b[0mtile_filename\u001b[0m\u001b[0;34m,\u001b[0m \u001b[0;34m'w'\u001b[0m\u001b[0;34m,\u001b[0m \u001b[0;34m**\u001b[0m\u001b[0mtile_profile\u001b[0m\u001b[0;34m)\u001b[0m \u001b[0;32mas\u001b[0m \u001b[0mdst\u001b[0m\u001b[0;34m:\u001b[0m\u001b[0;34m\u001b[0m\u001b[0;34m\u001b[0m\u001b[0m\n\u001b[0m\u001b[1;32m     48\u001b[0m                     \u001b[0mdst\u001b[0m\u001b[0;34m.\u001b[0m\u001b[0mwrite\u001b[0m\u001b[0;34m(\u001b[0m\u001b[0mtile_data\u001b[0m\u001b[0;34m)\u001b[0m\u001b[0;34m\u001b[0m\u001b[0;34m\u001b[0m\u001b[0m\n\u001b[1;32m     49\u001b[0m \u001b[0;34m\u001b[0m\u001b[0m\n",
            "\u001b[0;32mrasterio/_base.pyx\u001b[0m in \u001b[0;36mrasterio._base.DatasetBase.__exit__\u001b[0;34m()\u001b[0m\n",
            "\u001b[0;32mrasterio/_base.pyx\u001b[0m in \u001b[0;36mrasterio._base.DatasetBase.close\u001b[0;34m()\u001b[0m\n",
            "\u001b[0;32m/usr/lib/python3.11/contextlib.py\u001b[0m in \u001b[0;36mclose\u001b[0;34m(self)\u001b[0m\n\u001b[1;32m    605\u001b[0m         \u001b[0;32mreturn\u001b[0m \u001b[0mreceived_exc\u001b[0m \u001b[0;32mand\u001b[0m \u001b[0msuppressed_exc\u001b[0m\u001b[0;34m\u001b[0m\u001b[0;34m\u001b[0m\u001b[0m\n\u001b[1;32m    606\u001b[0m \u001b[0;34m\u001b[0m\u001b[0m\n\u001b[0;32m--> 607\u001b[0;31m     \u001b[0;32mdef\u001b[0m \u001b[0mclose\u001b[0m\u001b[0;34m(\u001b[0m\u001b[0mself\u001b[0m\u001b[0;34m)\u001b[0m\u001b[0;34m:\u001b[0m\u001b[0;34m\u001b[0m\u001b[0;34m\u001b[0m\u001b[0m\n\u001b[0m\u001b[1;32m    608\u001b[0m         \u001b[0;34m\"\"\"Immediately unwind the context stack.\"\"\"\u001b[0m\u001b[0;34m\u001b[0m\u001b[0;34m\u001b[0m\u001b[0m\n\u001b[1;32m    609\u001b[0m         \u001b[0mself\u001b[0m\u001b[0;34m.\u001b[0m\u001b[0m__exit__\u001b[0m\u001b[0;34m(\u001b[0m\u001b[0;32mNone\u001b[0m\u001b[0;34m,\u001b[0m \u001b[0;32mNone\u001b[0m\u001b[0;34m,\u001b[0m \u001b[0;32mNone\u001b[0m\u001b[0;34m)\u001b[0m\u001b[0;34m\u001b[0m\u001b[0;34m\u001b[0m\u001b[0m\n",
            "\u001b[0;31mKeyboardInterrupt\u001b[0m: "
          ]
        }
      ]
    },
    {
      "cell_type": "code",
      "source": [
        "import os\n",
        "import numpy as np\n",
        "import rasterio\n",
        "from skimage.io import imsave\n",
        "from tqdm import tqdm\n",
        "\n",
        "def normalize_to_uint8(image, percentile_low=2, percentile_high=98, gamma=1.0):\n",
        "    \"\"\"\n",
        "    Normalize image to 0–255 with percentile clipping and optional gamma correction.\n",
        "\n",
        "    Args:\n",
        "        image: Input image as numpy array.\n",
        "        percentile_low: Lower percentile for clipping (e.g., 2).\n",
        "        percentile_high: Upper percentile for clipping (e.g., 98).\n",
        "        gamma: Gamma correction factor (e.g., 0.5 to brighten, >1 to darken).\n",
        "    \"\"\"\n",
        "    image = image.astype(np.float32)\n",
        "\n",
        "    # Use percentiles to clip outliers\n",
        "    low_val = np.percentile(image, percentile_low)\n",
        "    high_val = np.percentile(image, percentile_high)\n",
        "\n",
        "    # Clip the image to the percentile range\n",
        "    image = np.clip(image, low_val, high_val)\n",
        "\n",
        "    # Normalize to 0-1\n",
        "    image = (image - low_val) / (high_val - low_val)\n",
        "\n",
        "    # Apply gamma correction (optional)\n",
        "    if gamma != 1.0:\n",
        "        image = np.power(image, gamma)\n",
        "\n",
        "    # Scale to 0-255 and convert to uint8\n",
        "    image = image * 255\n",
        "    return image.astype(np.uint8)\n",
        "\n",
        "def create_tiles_from_tif(tif_path, output_folder, tile_size=(512, 512), stride=(512, 512), gamma=0.5):\n",
        "    \"\"\"\n",
        "    Splits a TIFF image into tiles and saves as PNGs with brightness adjustment.\n",
        "\n",
        "    Args:\n",
        "        tif_path (str): Path to local .tif image.\n",
        "        output_folder (str): Where to save the PNG tiles.\n",
        "        tile_size (tuple): (Height, Width) of each tile.\n",
        "        stride (tuple): Stride between tiles (for overlap).\n",
        "        gamma (float): Gamma correction value (e.g., 0.5 to brighten).\n",
        "    \"\"\"\n",
        "    os.makedirs(output_folder, exist_ok=True)\n",
        "\n",
        "    try:\n",
        "        with rasterio.open(tif_path) as src:\n",
        "            print(f\"TIFF dimensions: {src.height}x{src.width}, Bands: {src.count}\")\n",
        "\n",
        "            if src.count >= 3:\n",
        "                image = src.read([1, 2, 3])  # Read RGB bands\n",
        "            else:\n",
        "                image = src.read(1)  # Read single band\n",
        "                image = np.stack([image] * 3, axis=0)  # Stack to create RGB\n",
        "\n",
        "            image = np.transpose(image, (1, 2, 0))  # HWC\n",
        "\n",
        "            # Normalize with percentile clipping and gamma correction\n",
        "            image = normalize_to_uint8(image, percentile_low=2, percentile_high=98, gamma=gamma)\n",
        "\n",
        "            if image.max() == 0:\n",
        "                raise ValueError(\"Image data is all zeros after normalization\")\n",
        "\n",
        "            H, W, _ = image.shape\n",
        "            tile_H, tile_W = tile_size\n",
        "\n",
        "            print(f\"Image shape after processing: {image.shape}\")\n",
        "\n",
        "            tile_id = 0\n",
        "            for i in tqdm(range(0, H - tile_H + 1, stride[0]), desc=\"Tiling rows\"):\n",
        "                for j in range(0, W - tile_W + 1, stride[1]):\n",
        "                    tile = image[i:i + tile_H, j:j + tile_W]\n",
        "                    if tile.max() == 0:\n",
        "                        print(f\"Skipping blank tile at {i},{j}\")\n",
        "                        continue\n",
        "\n",
        "                    save_path = os.path.join(output_folder, f\"tile_{tile_id:04d}.jpg\")\n",
        "                    imsave(save_path, tile, check_contrast=False)\n",
        "                    tile_id += 1\n",
        "\n",
        "            print(f\"Generated {tile_id} tiles\")\n",
        "\n",
        "    except Exception as e:\n",
        "        print(f\"Error processing TIFF file: {str(e)}\")\n",
        "\n",
        "# ========== USER INPUT ==========\n",
        "input_tif_path = \"/content/drive/MyDrive/Thesis/tif2.tif\"  # Your TIFF path\n",
        "output_folder = \"/content/drive/MyDrive/Ideathon/jpg_tiles\"     # Your output folder\n",
        "\n",
        "# ========== RUN ==========\n",
        "create_tiles_from_tif(input_tif_path, output_folder, gamma=1.06)  # Gamma < 1 brightens"
      ],
      "metadata": {
        "colab": {
          "base_uri": "https://localhost:8080/"
        },
        "id": "aBciP7G_XgIz",
        "outputId": "e5ddd60b-243e-43a5-99cb-24cebe6bc71b"
      },
      "execution_count": null,
      "outputs": [
        {
          "output_type": "stream",
          "name": "stdout",
          "text": [
            "TIFF dimensions: 5088x6242, Bands: 5\n",
            "Image shape after processing: (5088, 6242, 3)\n"
          ]
        },
        {
          "output_type": "stream",
          "name": "stderr",
          "text": [
            "\rTiling rows:   0%|          | 0/9 [00:00<?, ?it/s]"
          ]
        },
        {
          "output_type": "stream",
          "name": "stdout",
          "text": [
            "Skipping blank tile at 0,0\n",
            "Skipping blank tile at 0,512\n",
            "Skipping blank tile at 0,3584\n",
            "Skipping blank tile at 0,4096\n",
            "Skipping blank tile at 0,4608\n",
            "Skipping blank tile at 0,5120\n",
            "Skipping blank tile at 0,5632\n",
            "Skipping blank tile at 512,0\n"
          ]
        },
        {
          "output_type": "stream",
          "name": "stderr",
          "text": [
            "Tiling rows:  33%|███▎      | 3/9 [00:00<00:00,  7.22it/s]"
          ]
        },
        {
          "output_type": "stream",
          "name": "stdout",
          "text": [
            "Skipping blank tile at 512,5120\n",
            "Skipping blank tile at 512,5632\n",
            "Skipping blank tile at 1024,0\n",
            "Skipping blank tile at 1024,5632\n",
            "Skipping blank tile at 1536,0\n"
          ]
        },
        {
          "output_type": "stream",
          "name": "stderr",
          "text": [
            "Tiling rows:  56%|█████▌    | 5/9 [00:00<00:00,  6.18it/s]"
          ]
        },
        {
          "output_type": "stream",
          "name": "stdout",
          "text": [
            "Skipping blank tile at 2048,0\n",
            "Skipping blank tile at 2048,512\n",
            "Skipping blank tile at 2560,0\n",
            "Skipping blank tile at 2560,512\n"
          ]
        },
        {
          "output_type": "stream",
          "name": "stderr",
          "text": [
            "Tiling rows:  78%|███████▊  | 7/9 [00:01<00:00,  5.96it/s]"
          ]
        },
        {
          "output_type": "stream",
          "name": "stdout",
          "text": [
            "Skipping blank tile at 3072,0\n",
            "Skipping blank tile at 3072,512\n",
            "Skipping blank tile at 3584,0\n",
            "Skipping blank tile at 3584,512\n"
          ]
        },
        {
          "output_type": "stream",
          "name": "stderr",
          "text": [
            "Tiling rows: 100%|██████████| 9/9 [00:01<00:00,  6.23it/s]"
          ]
        },
        {
          "output_type": "stream",
          "name": "stdout",
          "text": [
            "Skipping blank tile at 4096,0\n",
            "Skipping blank tile at 4096,512\n",
            "Generated 85 tiles\n"
          ]
        },
        {
          "output_type": "stream",
          "name": "stderr",
          "text": [
            "\n"
          ]
        }
      ]
    },
    {
      "cell_type": "code",
      "source": [
        "# Install necessary libraries if not already installed\n",
        "!pip install scikit-image\n",
        "!pip install gdown\n",
        "!pip install rasterio\n"
      ],
      "metadata": {
        "colab": {
          "base_uri": "https://localhost:8080/"
        },
        "id": "xwb_gjvPja3q",
        "outputId": "1fe5cf80-8da1-4a81-9866-7cb92f3a5e63"
      },
      "execution_count": null,
      "outputs": [
        {
          "output_type": "stream",
          "name": "stdout",
          "text": [
            "Requirement already satisfied: scikit-image in /usr/local/lib/python3.11/dist-packages (0.25.2)\n",
            "Requirement already satisfied: numpy>=1.24 in /usr/local/lib/python3.11/dist-packages (from scikit-image) (1.26.4)\n",
            "Requirement already satisfied: scipy>=1.11.4 in /usr/local/lib/python3.11/dist-packages (from scikit-image) (1.13.1)\n",
            "Requirement already satisfied: networkx>=3.0 in /usr/local/lib/python3.11/dist-packages (from scikit-image) (3.4.2)\n",
            "Requirement already satisfied: pillow>=10.1 in /usr/local/lib/python3.11/dist-packages (from scikit-image) (11.1.0)\n",
            "Requirement already satisfied: imageio!=2.35.0,>=2.33 in /usr/local/lib/python3.11/dist-packages (from scikit-image) (2.37.0)\n",
            "Requirement already satisfied: tifffile>=2022.8.12 in /usr/local/lib/python3.11/dist-packages (from scikit-image) (2025.2.18)\n",
            "Requirement already satisfied: packaging>=21 in /usr/local/lib/python3.11/dist-packages (from scikit-image) (24.2)\n",
            "Requirement already satisfied: lazy-loader>=0.4 in /usr/local/lib/python3.11/dist-packages (from scikit-image) (0.4)\n",
            "Requirement already satisfied: gdown in /usr/local/lib/python3.11/dist-packages (5.2.0)\n",
            "Requirement already satisfied: beautifulsoup4 in /usr/local/lib/python3.11/dist-packages (from gdown) (4.13.3)\n",
            "Requirement already satisfied: filelock in /usr/local/lib/python3.11/dist-packages (from gdown) (3.17.0)\n",
            "Requirement already satisfied: requests[socks] in /usr/local/lib/python3.11/dist-packages (from gdown) (2.32.3)\n",
            "Requirement already satisfied: tqdm in /usr/local/lib/python3.11/dist-packages (from gdown) (4.67.1)\n",
            "Requirement already satisfied: soupsieve>1.2 in /usr/local/lib/python3.11/dist-packages (from beautifulsoup4->gdown) (2.6)\n",
            "Requirement already satisfied: typing-extensions>=4.0.0 in /usr/local/lib/python3.11/dist-packages (from beautifulsoup4->gdown) (4.12.2)\n",
            "Requirement already satisfied: charset-normalizer<4,>=2 in /usr/local/lib/python3.11/dist-packages (from requests[socks]->gdown) (3.4.1)\n",
            "Requirement already satisfied: idna<4,>=2.5 in /usr/local/lib/python3.11/dist-packages (from requests[socks]->gdown) (3.10)\n",
            "Requirement already satisfied: urllib3<3,>=1.21.1 in /usr/local/lib/python3.11/dist-packages (from requests[socks]->gdown) (2.3.0)\n",
            "Requirement already satisfied: certifi>=2017.4.17 in /usr/local/lib/python3.11/dist-packages (from requests[socks]->gdown) (2025.1.31)\n",
            "Requirement already satisfied: PySocks!=1.5.7,>=1.5.6 in /usr/local/lib/python3.11/dist-packages (from requests[socks]->gdown) (1.7.1)\n",
            "Collecting rasterio\n",
            "  Downloading rasterio-1.4.3-cp311-cp311-manylinux_2_17_x86_64.manylinux2014_x86_64.whl.metadata (9.1 kB)\n",
            "Collecting affine (from rasterio)\n",
            "  Downloading affine-2.4.0-py3-none-any.whl.metadata (4.0 kB)\n",
            "Requirement already satisfied: attrs in /usr/local/lib/python3.11/dist-packages (from rasterio) (25.1.0)\n",
            "Requirement already satisfied: certifi in /usr/local/lib/python3.11/dist-packages (from rasterio) (2025.1.31)\n",
            "Requirement already satisfied: click>=4.0 in /usr/local/lib/python3.11/dist-packages (from rasterio) (8.1.8)\n",
            "Collecting cligj>=0.5 (from rasterio)\n",
            "  Downloading cligj-0.7.2-py3-none-any.whl.metadata (5.0 kB)\n",
            "Requirement already satisfied: numpy>=1.24 in /usr/local/lib/python3.11/dist-packages (from rasterio) (1.26.4)\n",
            "Collecting click-plugins (from rasterio)\n",
            "  Downloading click_plugins-1.1.1-py2.py3-none-any.whl.metadata (6.4 kB)\n",
            "Requirement already satisfied: pyparsing in /usr/local/lib/python3.11/dist-packages (from rasterio) (3.2.1)\n",
            "Downloading rasterio-1.4.3-cp311-cp311-manylinux_2_17_x86_64.manylinux2014_x86_64.whl (22.2 MB)\n",
            "\u001b[2K   \u001b[90m━━━━━━━━━━━━━━━━━━━━━━━━━━━━━━━━━━━━━━━━\u001b[0m \u001b[32m22.2/22.2 MB\u001b[0m \u001b[31m64.0 MB/s\u001b[0m eta \u001b[36m0:00:00\u001b[0m\n",
            "\u001b[?25hDownloading cligj-0.7.2-py3-none-any.whl (7.1 kB)\n",
            "Downloading affine-2.4.0-py3-none-any.whl (15 kB)\n",
            "Downloading click_plugins-1.1.1-py2.py3-none-any.whl (7.5 kB)\n",
            "Installing collected packages: cligj, click-plugins, affine, rasterio\n",
            "Successfully installed affine-2.4.0 click-plugins-1.1.1 cligj-0.7.2 rasterio-1.4.3\n"
          ]
        }
      ]
    },
    {
      "cell_type": "code",
      "source": [
        "import os\n",
        "import numpy as np\n",
        "import rasterio\n",
        "from rasterio.windows import Window\n",
        "from tqdm import tqdm\n",
        "from skimage.io import imsave\n",
        "\n",
        "\n",
        "def normalize_to_uint8(image, percentile_low=2, percentile_high=98, gamma=1.0):\n",
        "    image = image.astype(np.float32)\n",
        "    low_val = np.percentile(image, percentile_low)\n",
        "    high_val = np.percentile(image, percentile_high)\n",
        "    image = np.clip(image, low_val, high_val)\n",
        "    image = (image - low_val) / (high_val - low_val + 1e-5)\n",
        "    if gamma != 1.0:\n",
        "        image = np.power(image, gamma)\n",
        "    image = image * 255\n",
        "    return image.astype(np.uint8)\n",
        "\n",
        "\n",
        "def create_jpg_tiles_from_tif(tif_path, output_folder, tile_size=(512, 512), stride=(512, 512), gamma=1.0):\n",
        "    os.makedirs(output_folder, exist_ok=True)\n",
        "\n",
        "    with rasterio.open(tif_path) as src:\n",
        "        print(f\"📂 Input TIFF: {tif_path}\")\n",
        "        print(f\"🖼️ Dimensions: {src.height}x{src.width}, Bands: {src.count}\")\n",
        "\n",
        "        # Read RGB bands: B2 (band 1), B3 (band 2), B4 (band 3)\n",
        "        data = src.read([1, 2, 3])  # shape: (3, H, W)\n",
        "        data = np.transpose(data, (1, 2, 0))  # shape: (H, W, 3)\n",
        "\n",
        "        # Replace no-data or extreme values with NaN\n",
        "        data[data <= -1e+10] = np.nan\n",
        "        data = np.nan_to_num(data)\n",
        "\n",
        "        # Normalize to 0-255 uint8\n",
        "        data = normalize_to_uint8(data, gamma=gamma)\n",
        "\n",
        "        H, W, _ = data.shape\n",
        "        tile_H, tile_W = tile_size\n",
        "        tile_id = 0\n",
        "\n",
        "        for i in tqdm(range(0, H - tile_H + 1, stride[0]), desc=\"Tiling rows\"):\n",
        "            for j in range(0, W - tile_W + 1, stride[1]):\n",
        "                tile = data[i:i + tile_H, j:j + tile_W]\n",
        "                if tile.max() <= 5:  # Skip empty/near-empty tiles\n",
        "                    continue\n",
        "                save_path = os.path.join(output_folder, f\"tile_{tile_id:04d}.jpg\")\n",
        "                imsave(save_path, tile, check_contrast=False)\n",
        "                tile_id += 1\n",
        "\n",
        "        print(f\"✅ Done! {tile_id} tiles saved to: {output_folder}\")\n",
        "\n",
        "\n",
        "# 👉 Run this section only if you're in an environment like Google Colab and Drive is mounted\n",
        "tif_path = \"/content/drive/MyDrive/Thesis/tif2.tif\"\n",
        "output_folder = \"/content/drive/MyDrive/Ideathon/Tiles\"\n",
        "\n",
        "create_jpg_tiles_from_tif(tif_path, output_folder, gamma=1.06)\n"
      ],
      "metadata": {
        "id": "4zmqSjdJbX5H",
        "colab": {
          "base_uri": "https://localhost:8080/"
        },
        "outputId": "248ac3d6-051d-4c69-acd1-351bdfb6269e"
      },
      "execution_count": null,
      "outputs": [
        {
          "output_type": "stream",
          "name": "stdout",
          "text": [
            "📂 Input TIFF: /content/drive/MyDrive/Thesis/tif2.tif\n",
            "🖼️ Dimensions: 5088x6242, Bands: 5\n"
          ]
        },
        {
          "output_type": "stream",
          "name": "stderr",
          "text": [
            "Tiling rows: 100%|██████████| 9/9 [00:01<00:00,  6.19it/s]\n"
          ]
        },
        {
          "output_type": "stream",
          "name": "stdout",
          "text": [
            "✅ Done! 85 tiles saved to: /content/drive/MyDrive/Ideathon/Tiles\n"
          ]
        }
      ]
    },
    {
      "cell_type": "code",
      "source": [
        "import rasterio\n",
        "\n",
        "def inspect_tiff_bands(tif_path):\n",
        "    with rasterio.open(tif_path) as src:\n",
        "        print(f\"📂 File: {tif_path}\")\n",
        "        print(f\"🖼️ Dimensions: {src.height}x{src.width}\")\n",
        "        print(f\"📊 Number of Bands: {src.count}\")\n",
        "        print(f\"🧭 CRS: {src.crs}\")\n",
        "        print(f\"📐 Transform: {src.transform}\")\n",
        "        print(\"\\n🔍 Band Information:\")\n",
        "\n",
        "        for i in range(1, src.count + 1):  # 1-based indexing\n",
        "            desc = src.descriptions[i-1] if src.descriptions[i-1] else \"N/A\"\n",
        "            stats = src.read(i)\n",
        "            print(f\" Band {i}: {desc}\")\n",
        "            print(f\"   - Min: {stats.min()}, Max: {stats.max()}, Mean: {stats.mean():.2f}\")\n",
        "\n",
        "# === USAGE ===\n",
        "tif_path = \"/content/drive/MyDrive/Thesis/tif2.tif\"\n",
        "inspect_tiff_bands(tif_path)\n"
      ],
      "metadata": {
        "colab": {
          "base_uri": "https://localhost:8080/"
        },
        "id": "vD6zf6ZGUSct",
        "outputId": "0ba2bbfe-a848-4e32-8264-9bf19b36e3af"
      },
      "execution_count": null,
      "outputs": [
        {
          "output_type": "stream",
          "name": "stdout",
          "text": [
            "📂 File: /content/drive/MyDrive/Thesis/tif2.tif\n",
            "🖼️ Dimensions: 5088x6242\n",
            "📊 Number of Bands: 5\n",
            "🧭 CRS: EPSG:4326\n",
            "📐 Transform: | 0.00, 0.00, 86.45|\n",
            "| 0.00,-0.00, 28.10|\n",
            "| 0.00, 0.00, 1.00|\n",
            "\n",
            "🔍 Band Information:\n",
            " Band 1: B2\n",
            "   - Min: -3.4028230607370965e+38, Max: 1.392699956893921, Mean: -inf\n",
            " Band 2: B3\n",
            "   - Min: -3.4028230607370965e+38, Max: 1.3668999671936035, Mean: -inf\n",
            " Band 3: B4\n"
          ]
        },
        {
          "output_type": "stream",
          "name": "stderr",
          "text": [
            "/usr/local/lib/python3.11/dist-packages/numpy/core/_methods.py:118: RuntimeWarning: overflow encountered in reduce\n",
            "  ret = umr_sum(arr, axis, dtype, out, keepdims, where=where)\n"
          ]
        },
        {
          "output_type": "stream",
          "name": "stdout",
          "text": [
            "   - Min: -3.4028230607370965e+38, Max: 1.3971500396728516, Mean: -inf\n",
            " Band 4: B8\n",
            "   - Min: -3.4028230607370965e+38, Max: 1.305400013923645, Mean: -inf\n",
            " Band 5: QA60\n",
            "   - Min: -3.4028230607370965e+38, Max: 0.0, Mean: -inf\n"
          ]
        }
      ]
    },
    {
      "cell_type": "code",
      "source": [],
      "metadata": {
        "id": "5X7MtsiT0zPA"
      },
      "execution_count": null,
      "outputs": []
    }
  ]
}