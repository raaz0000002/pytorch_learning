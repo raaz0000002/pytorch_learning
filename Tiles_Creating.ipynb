{
  "nbformat": 4,
  "nbformat_minor": 0,
  "metadata": {
    "colab": {
      "provenance": [],
      "mount_file_id": "18DdPBT8ygaAKaS7-7F4M86kKL6UT4RH6",
      "authorship_tag": "ABX9TyNZZYpK0vjO5nqCM2mT1wQ0",
      "include_colab_link": true
    },
    "kernelspec": {
      "name": "python3",
      "display_name": "Python 3"
    },
    "language_info": {
      "name": "python"
    }
  },
  "cells": [
    {
      "cell_type": "markdown",
      "metadata": {
        "id": "view-in-github",
        "colab_type": "text"
      },
      "source": [
        "<a href=\"https://colab.research.google.com/github/raaz0000002/pytorch_learning/blob/main/Tiles_Creating.ipynb\" target=\"_parent\"><img src=\"https://colab.research.google.com/assets/colab-badge.svg\" alt=\"Open In Colab\"/></a>"
      ]
    },
    {
      "cell_type": "code",
      "execution_count": null,
      "metadata": {
        "colab": {
          "base_uri": "https://localhost:8080/"
        },
        "id": "3HeHl5j8Req_",
        "outputId": "eafa38f5-8322-4ba1-e9f9-2ee239c680a8"
      },
      "outputs": [
        {
          "output_type": "stream",
          "name": "stdout",
          "text": [
            "Requirement already satisfied: scikit-image in /usr/local/lib/python3.11/dist-packages (0.25.2)\n",
            "Requirement already satisfied: numpy>=1.24 in /usr/local/lib/python3.11/dist-packages (from scikit-image) (2.0.2)\n",
            "Requirement already satisfied: scipy>=1.11.4 in /usr/local/lib/python3.11/dist-packages (from scikit-image) (1.14.1)\n",
            "Requirement already satisfied: networkx>=3.0 in /usr/local/lib/python3.11/dist-packages (from scikit-image) (3.4.2)\n",
            "Requirement already satisfied: pillow>=10.1 in /usr/local/lib/python3.11/dist-packages (from scikit-image) (11.1.0)\n",
            "Requirement already satisfied: imageio!=2.35.0,>=2.33 in /usr/local/lib/python3.11/dist-packages (from scikit-image) (2.37.0)\n",
            "Requirement already satisfied: tifffile>=2022.8.12 in /usr/local/lib/python3.11/dist-packages (from scikit-image) (2025.3.30)\n",
            "Requirement already satisfied: packaging>=21 in /usr/local/lib/python3.11/dist-packages (from scikit-image) (24.2)\n",
            "Requirement already satisfied: lazy-loader>=0.4 in /usr/local/lib/python3.11/dist-packages (from scikit-image) (0.4)\n"
          ]
        }
      ],
      "source": [
        "pip install scikit-image\n"
      ]
    },
    {
      "cell_type": "code",
      "source": [
        "!pip install gdown\n"
      ],
      "metadata": {
        "colab": {
          "base_uri": "https://localhost:8080/"
        },
        "id": "WnpsvDjoVCkv",
        "outputId": "54c27526-08b8-4316-91b0-7b7ce7484392"
      },
      "execution_count": null,
      "outputs": [
        {
          "output_type": "stream",
          "name": "stdout",
          "text": [
            "Requirement already satisfied: gdown in /usr/local/lib/python3.11/dist-packages (5.2.0)\n",
            "Requirement already satisfied: beautifulsoup4 in /usr/local/lib/python3.11/dist-packages (from gdown) (4.13.3)\n",
            "Requirement already satisfied: filelock in /usr/local/lib/python3.11/dist-packages (from gdown) (3.18.0)\n",
            "Requirement already satisfied: requests[socks] in /usr/local/lib/python3.11/dist-packages (from gdown) (2.32.3)\n",
            "Requirement already satisfied: tqdm in /usr/local/lib/python3.11/dist-packages (from gdown) (4.67.1)\n",
            "Requirement already satisfied: soupsieve>1.2 in /usr/local/lib/python3.11/dist-packages (from beautifulsoup4->gdown) (2.6)\n",
            "Requirement already satisfied: typing-extensions>=4.0.0 in /usr/local/lib/python3.11/dist-packages (from beautifulsoup4->gdown) (4.13.0)\n",
            "Requirement already satisfied: charset-normalizer<4,>=2 in /usr/local/lib/python3.11/dist-packages (from requests[socks]->gdown) (3.4.1)\n",
            "Requirement already satisfied: idna<4,>=2.5 in /usr/local/lib/python3.11/dist-packages (from requests[socks]->gdown) (3.10)\n",
            "Requirement already satisfied: urllib3<3,>=1.21.1 in /usr/local/lib/python3.11/dist-packages (from requests[socks]->gdown) (2.3.0)\n",
            "Requirement already satisfied: certifi>=2017.4.17 in /usr/local/lib/python3.11/dist-packages (from requests[socks]->gdown) (2025.1.31)\n",
            "Requirement already satisfied: PySocks!=1.5.7,>=1.5.6 in /usr/local/lib/python3.11/dist-packages (from requests[socks]->gdown) (1.7.1)\n"
          ]
        }
      ]
    },
    {
      "cell_type": "code",
      "source": [
        "pip install rasterio\n"
      ],
      "metadata": {
        "colab": {
          "base_uri": "https://localhost:8080/"
        },
        "id": "Eh8oXo3BXXuc",
        "outputId": "08f45374-eb53-4438-e4c4-33bd9d62b8fb"
      },
      "execution_count": null,
      "outputs": [
        {
          "output_type": "stream",
          "name": "stdout",
          "text": [
            "Collecting rasterio\n",
            "  Downloading rasterio-1.4.3-cp311-cp311-manylinux_2_17_x86_64.manylinux2014_x86_64.whl.metadata (9.1 kB)\n",
            "Collecting affine (from rasterio)\n",
            "  Downloading affine-2.4.0-py3-none-any.whl.metadata (4.0 kB)\n",
            "Requirement already satisfied: attrs in /usr/local/lib/python3.11/dist-packages (from rasterio) (25.3.0)\n",
            "Requirement already satisfied: certifi in /usr/local/lib/python3.11/dist-packages (from rasterio) (2025.1.31)\n",
            "Requirement already satisfied: click>=4.0 in /usr/local/lib/python3.11/dist-packages (from rasterio) (8.1.8)\n",
            "Collecting cligj>=0.5 (from rasterio)\n",
            "  Downloading cligj-0.7.2-py3-none-any.whl.metadata (5.0 kB)\n",
            "Requirement already satisfied: numpy>=1.24 in /usr/local/lib/python3.11/dist-packages (from rasterio) (2.0.2)\n",
            "Collecting click-plugins (from rasterio)\n",
            "  Downloading click_plugins-1.1.1-py2.py3-none-any.whl.metadata (6.4 kB)\n",
            "Requirement already satisfied: pyparsing in /usr/local/lib/python3.11/dist-packages (from rasterio) (3.2.3)\n",
            "Downloading rasterio-1.4.3-cp311-cp311-manylinux_2_17_x86_64.manylinux2014_x86_64.whl (22.2 MB)\n",
            "\u001b[2K   \u001b[90m━━━━━━━━━━━━━━━━━━━━━━━━━━━━━━━━━━━━━━━━\u001b[0m \u001b[32m22.2/22.2 MB\u001b[0m \u001b[31m55.5 MB/s\u001b[0m eta \u001b[36m0:00:00\u001b[0m\n",
            "\u001b[?25hDownloading cligj-0.7.2-py3-none-any.whl (7.1 kB)\n",
            "Downloading affine-2.4.0-py3-none-any.whl (15 kB)\n",
            "Downloading click_plugins-1.1.1-py2.py3-none-any.whl (7.5 kB)\n",
            "Installing collected packages: cligj, click-plugins, affine, rasterio\n",
            "Successfully installed affine-2.4.0 click-plugins-1.1.1 cligj-0.7.2 rasterio-1.4.3\n"
          ]
        }
      ]
    },
    {
      "cell_type": "code",
      "source": [
        "import os\n",
        "import numpy as np\n",
        "import rasterio\n",
        "from rasterio.windows import Window\n",
        "from tqdm import tqdm\n",
        "\n",
        "def create_tiles_tif(image_path, output_dir, tile_size=(256, 256), prefix=\"tile\"):\n",
        "    \"\"\"\n",
        "    Splits a TIFF image into smaller tiles and saves them as .tif files.\n",
        "\n",
        "    Args:\n",
        "        image_path (str): Path to input .tif image.\n",
        "        output_dir (str): Directory to save tiles.\n",
        "        tile_size (tuple): Size of each tile (height, width).\n",
        "        prefix (str): Prefix for tile filenames.\n",
        "    \"\"\"\n",
        "    os.makedirs(output_dir, exist_ok=True)\n",
        "\n",
        "    with rasterio.open(image_path) as src:\n",
        "        width = src.width\n",
        "        height = src.height\n",
        "        num_bands = src.count\n",
        "        profile = src.profile\n",
        "\n",
        "        tile_height, tile_width = tile_size\n",
        "        tile_id = 0\n",
        "\n",
        "        for top in tqdm(range(0, height, tile_height), desc=\"Creating Tiles\"):\n",
        "            for left in range(0, width, tile_width):\n",
        "                # Ensure tile doesn't exceed bounds\n",
        "                w = min(tile_width, width - left)\n",
        "                h = min(tile_height, height - top)\n",
        "\n",
        "                window = Window(left, top, w, h)\n",
        "                transform = src.window_transform(window)\n",
        "                tile_data = src.read(window=window)\n",
        "\n",
        "                # Update profile for tile\n",
        "                tile_profile = profile.copy()\n",
        "                tile_profile.update({\n",
        "                    'height': h,\n",
        "                    'width': w,\n",
        "                    'transform': transform\n",
        "                })\n",
        "\n",
        "                tile_filename = os.path.join(output_dir, f\"{prefix}_{tile_id:04d}.tif\")\n",
        "                with rasterio.open(tile_filename, 'w', **tile_profile) as dst:\n",
        "                    dst.write(tile_data)\n",
        "\n",
        "                tile_id += 1\n",
        "\n",
        "\n"
      ],
      "metadata": {
        "id": "7oi4s6uESdbV"
      },
      "execution_count": null,
      "outputs": []
    },
    {
      "cell_type": "code",
      "source": [
        "import os\n",
        "import gdown\n",
        "\n",
        "# Step 1: Download the TIFF from Google Drive\n",
        "drive_url = \"https://drive.google.com/uc?id=1SqQfWqdnSdXczWaOlcb2OQMzBAuHsDCG\"  # convert share link to direct link\n",
        "local_tif_path = \"/content/satellite_image.tif\"\n",
        "gdown.download(drive_url, local_tif_path, quiet=False)\n",
        "\n",
        "# Step 2: Tile output folder\n",
        "output_tiles_folder = \"/content/drive/MyDrive/Thesis/tiles\"\n",
        "\n",
        "# Step 3: Call the tiling function\n",
        "create_tiles_tif(local_tif_path, output_tiles_folder)\n",
        "\n"
      ],
      "metadata": {
        "colab": {
          "base_uri": "https://localhost:8080/"
        },
        "id": "XGTkbFOOTnxe",
        "outputId": "07f65635-48b4-4947-bc9e-18bbf2028367"
      },
      "execution_count": null,
      "outputs": [
        {
          "output_type": "stream",
          "name": "stderr",
          "text": [
            "Downloading...\n",
            "From (original): https://drive.google.com/uc?id=1SqQfWqdnSdXczWaOlcb2OQMzBAuHsDCG\n",
            "From (redirected): https://drive.google.com/uc?id=1SqQfWqdnSdXczWaOlcb2OQMzBAuHsDCG&confirm=t&uuid=3c53381d-11e8-475b-b24a-dfad0e8fe034\n",
            "To: /content/satellite_image.tif\n",
            "100%|██████████| 953M/953M [00:21<00:00, 44.3MB/s]\n",
            "Creating Tiles: 100%|██████████| 42/42 [01:32<00:00,  2.21s/it]\n"
          ]
        }
      ]
    },
    {
      "cell_type": "code",
      "source": [
        "import os\n",
        "import numpy as np\n",
        "import rasterio\n",
        "from skimage.io import imsave\n",
        "from tqdm import tqdm\n",
        "\n",
        "def normalize_to_uint8(image, percentile_low=2, percentile_high=98, gamma=1.0):\n",
        "    \"\"\"\n",
        "    Normalize image to 0–255 with percentile clipping and optional gamma correction.\n",
        "\n",
        "    Args:\n",
        "        image: Input image as numpy array.\n",
        "        percentile_low: Lower percentile for clipping (e.g., 2).\n",
        "        percentile_high: Upper percentile for clipping (e.g., 98).\n",
        "        gamma: Gamma correction factor (e.g., 0.5 to brighten, >1 to darken).\n",
        "    \"\"\"\n",
        "    image = image.astype(np.float32)\n",
        "\n",
        "    # Use percentiles to clip outliers\n",
        "    low_val = np.percentile(image, percentile_low)\n",
        "    high_val = np.percentile(image, percentile_high)\n",
        "\n",
        "    # Clip the image to the percentile range\n",
        "    image = np.clip(image, low_val, high_val)\n",
        "\n",
        "    # Normalize to 0-1\n",
        "    image = (image - low_val) / (high_val - low_val)\n",
        "\n",
        "    # Apply gamma correction (optional)\n",
        "    if gamma != 1.0:\n",
        "        image = np.power(image, gamma)\n",
        "\n",
        "    # Scale to 0-255 and convert to uint8\n",
        "    image = image * 255\n",
        "    return image.astype(np.uint8)\n",
        "\n",
        "def create_tiles_from_tif(tif_path, output_folder, tile_size=(256, 256), stride=(256, 256), gamma=0.5):\n",
        "    \"\"\"\n",
        "    Splits a TIFF image into tiles and saves as PNGs with brightness adjustment.\n",
        "\n",
        "    Args:\n",
        "        tif_path (str): Path to local .tif image.\n",
        "        output_folder (str): Where to save the PNG tiles.\n",
        "        tile_size (tuple): (Height, Width) of each tile.\n",
        "        stride (tuple): Stride between tiles (for overlap).\n",
        "        gamma (float): Gamma correction value (e.g., 0.5 to brighten).\n",
        "    \"\"\"\n",
        "    os.makedirs(output_folder, exist_ok=True)\n",
        "\n",
        "    try:\n",
        "        with rasterio.open(tif_path) as src:\n",
        "            print(f\"TIFF dimensions: {src.height}x{src.width}, Bands: {src.count}\")\n",
        "\n",
        "            if src.count >= 3:\n",
        "                image = src.read([1, 2, 3])  # Read RGB bands\n",
        "            else:\n",
        "                image = src.read(1)  # Read single band\n",
        "                image = np.stack([image] * 3, axis=0)  # Stack to create RGB\n",
        "\n",
        "            image = np.transpose(image, (1, 2, 0))  # HWC\n",
        "\n",
        "            # Normalize with percentile clipping and gamma correction\n",
        "            image = normalize_to_uint8(image, percentile_low=2, percentile_high=98, gamma=gamma)\n",
        "\n",
        "            if image.max() == 0:\n",
        "                raise ValueError(\"Image data is all zeros after normalization\")\n",
        "\n",
        "            H, W, _ = image.shape\n",
        "            tile_H, tile_W = tile_size\n",
        "\n",
        "            print(f\"Image shape after processing: {image.shape}\")\n",
        "\n",
        "            tile_id = 0\n",
        "            for i in tqdm(range(0, H - tile_H + 1, stride[0]), desc=\"Tiling rows\"):\n",
        "                for j in range(0, W - tile_W + 1, stride[1]):\n",
        "                    tile = image[i:i + tile_H, j:j + tile_W]\n",
        "                    if tile.max() == 0:\n",
        "                        print(f\"Skipping blank tile at {i},{j}\")\n",
        "                        continue\n",
        "\n",
        "                    save_path = os.path.join(output_folder, f\"tile_{tile_id:04d}.png\")\n",
        "                    imsave(save_path, tile, check_contrast=False)\n",
        "                    tile_id += 1\n",
        "\n",
        "            print(f\"Generated {tile_id} tiles\")\n",
        "\n",
        "    except Exception as e:\n",
        "        print(f\"Error processing TIFF file: {str(e)}\")\n",
        "\n",
        "# ========== USER INPUT ==========\n",
        "input_tif_path = \"/content/drive/MyDrive/Thesis/22-23-dec_to_feb.tif\"  # Your TIFF path\n",
        "output_folder = \"/content/drive/MyDrive/Thesis/Tiles\"     # Your output folder\n",
        "\n",
        "# ========== RUN ==========\n",
        "create_tiles_from_tif(input_tif_path, output_folder, gamma=1.06)  # Gamma < 1 brightens"
      ],
      "metadata": {
        "colab": {
          "base_uri": "https://localhost:8080/"
        },
        "id": "aBciP7G_XgIz",
        "outputId": "7663fa2d-0f09-451b-f343-3c2f73cd5390"
      },
      "execution_count": null,
      "outputs": [
        {
          "output_type": "stream",
          "name": "stdout",
          "text": [
            "TIFF dimensions: 10678x5749, Bands: 16\n",
            "Image shape after processing: (10678, 5749, 3)\n"
          ]
        },
        {
          "output_type": "stream",
          "name": "stderr",
          "text": [
            "\rTiling rows:   0%|          | 0/41 [00:00<?, ?it/s]"
          ]
        },
        {
          "output_type": "stream",
          "name": "stdout",
          "text": [
            "Skipping blank tile at 0,0\n",
            "Skipping blank tile at 0,256\n",
            "Skipping blank tile at 0,512\n",
            "Skipping blank tile at 0,768\n",
            "Skipping blank tile at 0,1024\n",
            "Skipping blank tile at 0,1280\n",
            "Skipping blank tile at 0,1536\n",
            "Skipping blank tile at 0,1792\n",
            "Skipping blank tile at 0,2048\n",
            "Skipping blank tile at 0,2304\n",
            "Skipping blank tile at 0,2560\n",
            "Skipping blank tile at 0,2816\n",
            "Skipping blank tile at 0,3072\n",
            "Skipping blank tile at 0,3328\n",
            "Skipping blank tile at 0,3584\n",
            "Skipping blank tile at 0,3840\n",
            "Skipping blank tile at 0,4096\n",
            "Skipping blank tile at 0,4352\n",
            "Skipping blank tile at 0,4608\n",
            "Skipping blank tile at 0,4864\n",
            "Skipping blank tile at 0,5120\n",
            "Skipping blank tile at 0,5376\n",
            "Skipping blank tile at 256,0\n",
            "Skipping blank tile at 256,256\n",
            "Skipping blank tile at 256,512\n",
            "Skipping blank tile at 256,768\n",
            "Skipping blank tile at 256,1024\n",
            "Skipping blank tile at 256,1280\n",
            "Skipping blank tile at 256,1536\n",
            "Skipping blank tile at 256,1792\n",
            "Skipping blank tile at 256,2048\n",
            "Skipping blank tile at 256,2304\n",
            "Skipping blank tile at 256,2560\n",
            "Skipping blank tile at 256,2816\n",
            "Skipping blank tile at 256,3072\n",
            "Skipping blank tile at 256,3328\n",
            "Skipping blank tile at 256,3584\n",
            "Skipping blank tile at 256,3840\n",
            "Skipping blank tile at 256,4096\n",
            "Skipping blank tile at 256,4352\n",
            "Skipping blank tile at 256,4608\n",
            "Skipping blank tile at 256,4864\n",
            "Skipping blank tile at 256,5120\n",
            "Skipping blank tile at 256,5376\n",
            "Skipping blank tile at 512,0\n",
            "Skipping blank tile at 512,256\n",
            "Skipping blank tile at 512,512\n",
            "Skipping blank tile at 512,768\n",
            "Skipping blank tile at 512,1024\n",
            "Skipping blank tile at 512,1280\n",
            "Skipping blank tile at 512,1536\n",
            "Skipping blank tile at 512,1792\n",
            "Skipping blank tile at 512,2048\n",
            "Skipping blank tile at 512,2304\n",
            "Skipping blank tile at 512,2560\n",
            "Skipping blank tile at 512,2816\n",
            "Skipping blank tile at 512,3072\n",
            "Skipping blank tile at 512,3328\n",
            "Skipping blank tile at 512,3584\n",
            "Skipping blank tile at 512,3840\n",
            "Skipping blank tile at 512,4096\n",
            "Skipping blank tile at 512,4352\n",
            "Skipping blank tile at 512,4608\n",
            "Skipping blank tile at 512,4864\n",
            "Skipping blank tile at 512,5120\n",
            "Skipping blank tile at 512,5376\n",
            "Skipping blank tile at 768,0\n",
            "Skipping blank tile at 768,256\n",
            "Skipping blank tile at 768,512\n"
          ]
        },
        {
          "output_type": "stream",
          "name": "stderr",
          "text": [
            "\rTiling rows:  10%|▉         | 4/41 [00:00<00:02, 14.82it/s]"
          ]
        },
        {
          "output_type": "stream",
          "name": "stdout",
          "text": [
            "Skipping blank tile at 768,4608\n",
            "Skipping blank tile at 768,4864\n",
            "Skipping blank tile at 768,5120\n",
            "Skipping blank tile at 768,5376\n",
            "Skipping blank tile at 1024,0\n",
            "Skipping blank tile at 1024,256\n",
            "Skipping blank tile at 1024,512\n",
            "Skipping blank tile at 1024,4864\n",
            "Skipping blank tile at 1024,5120\n",
            "Skipping blank tile at 1024,5376\n",
            "Skipping blank tile at 1280,0\n",
            "Skipping blank tile at 1280,256\n",
            "Skipping blank tile at 1280,512\n"
          ]
        },
        {
          "output_type": "stream",
          "name": "stderr",
          "text": [
            "\rTiling rows:  15%|█▍        | 6/41 [00:01<00:10,  3.25it/s]"
          ]
        },
        {
          "output_type": "stream",
          "name": "stdout",
          "text": [
            "Skipping blank tile at 1280,5120\n",
            "Skipping blank tile at 1280,5376\n",
            "Skipping blank tile at 1536,0\n",
            "Skipping blank tile at 1536,256\n",
            "Skipping blank tile at 1536,512\n"
          ]
        },
        {
          "output_type": "stream",
          "name": "stderr",
          "text": [
            "\rTiling rows:  17%|█▋        | 7/41 [00:02<00:13,  2.45it/s]"
          ]
        },
        {
          "output_type": "stream",
          "name": "stdout",
          "text": [
            "Skipping blank tile at 1792,0\n",
            "Skipping blank tile at 1792,256\n",
            "Skipping blank tile at 1792,512\n"
          ]
        },
        {
          "output_type": "stream",
          "name": "stderr",
          "text": [
            "\rTiling rows:  20%|█▉        | 8/41 [00:03<00:17,  1.85it/s]"
          ]
        },
        {
          "output_type": "stream",
          "name": "stdout",
          "text": [
            "Skipping blank tile at 2048,0\n",
            "Skipping blank tile at 2048,256\n",
            "Skipping blank tile at 2048,512\n",
            "Skipping blank tile at 2048,768\n"
          ]
        },
        {
          "output_type": "stream",
          "name": "stderr",
          "text": [
            "\rTiling rows:  22%|██▏       | 9/41 [00:04<00:20,  1.55it/s]"
          ]
        },
        {
          "output_type": "stream",
          "name": "stdout",
          "text": [
            "Skipping blank tile at 2304,0\n",
            "Skipping blank tile at 2304,256\n",
            "Skipping blank tile at 2304,512\n",
            "Skipping blank tile at 2304,768\n"
          ]
        },
        {
          "output_type": "stream",
          "name": "stderr",
          "text": [
            "\rTiling rows:  24%|██▍       | 10/41 [00:05<00:22,  1.38it/s]"
          ]
        },
        {
          "output_type": "stream",
          "name": "stdout",
          "text": [
            "Skipping blank tile at 2560,0\n",
            "Skipping blank tile at 2560,256\n",
            "Skipping blank tile at 2560,512\n",
            "Skipping blank tile at 2560,768\n"
          ]
        },
        {
          "output_type": "stream",
          "name": "stderr",
          "text": [
            "\rTiling rows:  27%|██▋       | 11/41 [00:06<00:23,  1.27it/s]"
          ]
        },
        {
          "output_type": "stream",
          "name": "stdout",
          "text": [
            "Skipping blank tile at 2816,0\n",
            "Skipping blank tile at 2816,256\n",
            "Skipping blank tile at 2816,512\n",
            "Skipping blank tile at 2816,768\n"
          ]
        },
        {
          "output_type": "stream",
          "name": "stderr",
          "text": [
            "\rTiling rows:  29%|██▉       | 12/41 [00:06<00:22,  1.30it/s]"
          ]
        },
        {
          "output_type": "stream",
          "name": "stdout",
          "text": [
            "Skipping blank tile at 3072,0\n",
            "Skipping blank tile at 3072,256\n",
            "Skipping blank tile at 3072,512\n",
            "Skipping blank tile at 3072,768\n"
          ]
        },
        {
          "output_type": "stream",
          "name": "stderr",
          "text": [
            "\rTiling rows:  32%|███▏      | 13/41 [00:07<00:21,  1.31it/s]"
          ]
        },
        {
          "output_type": "stream",
          "name": "stdout",
          "text": [
            "Skipping blank tile at 3328,0\n",
            "Skipping blank tile at 3328,256\n",
            "Skipping blank tile at 3328,512\n",
            "Skipping blank tile at 3328,768\n"
          ]
        },
        {
          "output_type": "stream",
          "name": "stderr",
          "text": [
            "\rTiling rows:  34%|███▍      | 14/41 [00:08<00:20,  1.34it/s]"
          ]
        },
        {
          "output_type": "stream",
          "name": "stdout",
          "text": [
            "Skipping blank tile at 3584,0\n",
            "Skipping blank tile at 3584,256\n",
            "Skipping blank tile at 3584,512\n",
            "Skipping blank tile at 3584,768\n",
            "Skipping blank tile at 3584,1024\n"
          ]
        },
        {
          "output_type": "stream",
          "name": "stderr",
          "text": [
            "\rTiling rows:  37%|███▋      | 15/41 [00:08<00:18,  1.37it/s]"
          ]
        },
        {
          "output_type": "stream",
          "name": "stdout",
          "text": [
            "Skipping blank tile at 3840,0\n",
            "Skipping blank tile at 3840,256\n",
            "Skipping blank tile at 3840,512\n",
            "Skipping blank tile at 3840,768\n",
            "Skipping blank tile at 3840,1024\n"
          ]
        },
        {
          "output_type": "stream",
          "name": "stderr",
          "text": [
            "\rTiling rows:  39%|███▉      | 16/41 [00:09<00:18,  1.39it/s]"
          ]
        },
        {
          "output_type": "stream",
          "name": "stdout",
          "text": [
            "Skipping blank tile at 4096,0\n",
            "Skipping blank tile at 4096,256\n",
            "Skipping blank tile at 4096,512\n",
            "Skipping blank tile at 4096,768\n"
          ]
        },
        {
          "output_type": "stream",
          "name": "stderr",
          "text": [
            "\rTiling rows:  41%|████▏     | 17/41 [00:10<00:18,  1.32it/s]"
          ]
        },
        {
          "output_type": "stream",
          "name": "stdout",
          "text": [
            "Skipping blank tile at 4352,0\n",
            "Skipping blank tile at 4352,256\n",
            "Skipping blank tile at 4352,512\n",
            "Skipping blank tile at 4352,768\n"
          ]
        },
        {
          "output_type": "stream",
          "name": "stderr",
          "text": [
            "\rTiling rows:  44%|████▍     | 18/41 [00:11<00:17,  1.32it/s]"
          ]
        },
        {
          "output_type": "stream",
          "name": "stdout",
          "text": [
            "Skipping blank tile at 4608,0\n",
            "Skipping blank tile at 4608,256\n",
            "Skipping blank tile at 4608,512\n",
            "Skipping blank tile at 4608,768\n"
          ]
        },
        {
          "output_type": "stream",
          "name": "stderr",
          "text": [
            "\rTiling rows:  46%|████▋     | 19/41 [00:12<00:17,  1.28it/s]"
          ]
        },
        {
          "output_type": "stream",
          "name": "stdout",
          "text": [
            "Skipping blank tile at 4864,0\n",
            "Skipping blank tile at 4864,256\n",
            "Skipping blank tile at 4864,512\n"
          ]
        },
        {
          "output_type": "stream",
          "name": "stderr",
          "text": [
            "\rTiling rows:  49%|████▉     | 20/41 [00:12<00:16,  1.26it/s]"
          ]
        },
        {
          "output_type": "stream",
          "name": "stdout",
          "text": [
            "Skipping blank tile at 5120,0\n",
            "Skipping blank tile at 5120,256\n"
          ]
        },
        {
          "output_type": "stream",
          "name": "stderr",
          "text": [
            "\rTiling rows:  51%|█████     | 21/41 [00:13<00:17,  1.17it/s]"
          ]
        },
        {
          "output_type": "stream",
          "name": "stdout",
          "text": [
            "Skipping blank tile at 5376,0\n",
            "Skipping blank tile at 5376,256\n"
          ]
        },
        {
          "output_type": "stream",
          "name": "stderr",
          "text": [
            "\rTiling rows:  54%|█████▎    | 22/41 [00:14<00:16,  1.12it/s]"
          ]
        },
        {
          "output_type": "stream",
          "name": "stdout",
          "text": [
            "Skipping blank tile at 5376,5376\n",
            "Skipping blank tile at 5632,0\n",
            "Skipping blank tile at 5632,256\n"
          ]
        },
        {
          "output_type": "stream",
          "name": "stderr",
          "text": [
            "\rTiling rows:  56%|█████▌    | 23/41 [00:15<00:15,  1.13it/s]"
          ]
        },
        {
          "output_type": "stream",
          "name": "stdout",
          "text": [
            "Skipping blank tile at 5632,5376\n",
            "Skipping blank tile at 5888,0\n",
            "Skipping blank tile at 5888,256\n"
          ]
        },
        {
          "output_type": "stream",
          "name": "stderr",
          "text": [
            "\rTiling rows:  59%|█████▊    | 24/41 [00:16<00:15,  1.10it/s]"
          ]
        },
        {
          "output_type": "stream",
          "name": "stdout",
          "text": [
            "Skipping blank tile at 5888,5376\n",
            "Skipping blank tile at 6144,0\n"
          ]
        },
        {
          "output_type": "stream",
          "name": "stderr",
          "text": [
            "\rTiling rows:  61%|██████    | 25/41 [00:17<00:15,  1.01it/s]"
          ]
        },
        {
          "output_type": "stream",
          "name": "stdout",
          "text": [
            "Skipping blank tile at 6144,5376\n",
            "Skipping blank tile at 6400,0\n"
          ]
        },
        {
          "output_type": "stream",
          "name": "stderr",
          "text": [
            "\rTiling rows:  63%|██████▎   | 26/41 [00:19<00:16,  1.08s/it]"
          ]
        },
        {
          "output_type": "stream",
          "name": "stdout",
          "text": [
            "Skipping blank tile at 6400,5376\n"
          ]
        },
        {
          "output_type": "stream",
          "name": "stderr",
          "text": [
            "\rTiling rows:  66%|██████▌   | 27/41 [00:20<00:15,  1.12s/it]"
          ]
        },
        {
          "output_type": "stream",
          "name": "stdout",
          "text": [
            "Skipping blank tile at 6656,5376\n"
          ]
        },
        {
          "output_type": "stream",
          "name": "stderr",
          "text": [
            "\rTiling rows:  68%|██████▊   | 28/41 [00:21<00:13,  1.05s/it]"
          ]
        },
        {
          "output_type": "stream",
          "name": "stdout",
          "text": [
            "Skipping blank tile at 6912,5376\n"
          ]
        },
        {
          "output_type": "stream",
          "name": "stderr",
          "text": [
            "\rTiling rows:  71%|███████   | 29/41 [00:22<00:11,  1.00it/s]"
          ]
        },
        {
          "output_type": "stream",
          "name": "stdout",
          "text": [
            "Skipping blank tile at 7168,5120\n",
            "Skipping blank tile at 7168,5376\n",
            "Skipping blank tile at 7424,0\n"
          ]
        },
        {
          "output_type": "stream",
          "name": "stderr",
          "text": [
            "\rTiling rows:  73%|███████▎  | 30/41 [00:22<00:10,  1.05it/s]"
          ]
        },
        {
          "output_type": "stream",
          "name": "stdout",
          "text": [
            "Skipping blank tile at 7424,5120\n",
            "Skipping blank tile at 7424,5376\n",
            "Skipping blank tile at 7680,0\n",
            "Skipping blank tile at 7680,256\n",
            "Skipping blank tile at 7680,512\n"
          ]
        },
        {
          "output_type": "stream",
          "name": "stderr",
          "text": [
            "\rTiling rows:  76%|███████▌  | 31/41 [00:23<00:08,  1.11it/s]"
          ]
        },
        {
          "output_type": "stream",
          "name": "stdout",
          "text": [
            "Skipping blank tile at 7680,4864\n",
            "Skipping blank tile at 7680,5120\n",
            "Skipping blank tile at 7680,5376\n",
            "Skipping blank tile at 7936,0\n",
            "Skipping blank tile at 7936,256\n",
            "Skipping blank tile at 7936,512\n"
          ]
        },
        {
          "output_type": "stream",
          "name": "stderr",
          "text": [
            "\rTiling rows:  78%|███████▊  | 32/41 [00:24<00:07,  1.14it/s]"
          ]
        },
        {
          "output_type": "stream",
          "name": "stdout",
          "text": [
            "Skipping blank tile at 7936,5120\n",
            "Skipping blank tile at 7936,5376\n",
            "Skipping blank tile at 8192,0\n",
            "Skipping blank tile at 8192,256\n",
            "Skipping blank tile at 8192,512\n"
          ]
        },
        {
          "output_type": "stream",
          "name": "stderr",
          "text": [
            "\rTiling rows:  80%|████████  | 33/41 [00:25<00:06,  1.18it/s]"
          ]
        },
        {
          "output_type": "stream",
          "name": "stdout",
          "text": [
            "Skipping blank tile at 8192,5376\n",
            "Skipping blank tile at 8448,0\n",
            "Skipping blank tile at 8448,256\n",
            "Skipping blank tile at 8448,512\n"
          ]
        },
        {
          "output_type": "stream",
          "name": "stderr",
          "text": [
            "\rTiling rows:  83%|████████▎ | 34/41 [00:26<00:05,  1.19it/s]"
          ]
        },
        {
          "output_type": "stream",
          "name": "stdout",
          "text": [
            "Skipping blank tile at 8448,5376\n",
            "Skipping blank tile at 8704,0\n",
            "Skipping blank tile at 8704,256\n"
          ]
        },
        {
          "output_type": "stream",
          "name": "stderr",
          "text": [
            "\rTiling rows:  85%|████████▌ | 35/41 [00:27<00:05,  1.12it/s]"
          ]
        },
        {
          "output_type": "stream",
          "name": "stdout",
          "text": [
            "Skipping blank tile at 8960,0\n",
            "Skipping blank tile at 8960,256\n",
            "Skipping blank tile at 8960,512\n"
          ]
        },
        {
          "output_type": "stream",
          "name": "stderr",
          "text": [
            "\rTiling rows:  88%|████████▊ | 36/41 [00:28<00:04,  1.13it/s]"
          ]
        },
        {
          "output_type": "stream",
          "name": "stdout",
          "text": [
            "Skipping blank tile at 9216,0\n",
            "Skipping blank tile at 9216,256\n"
          ]
        },
        {
          "output_type": "stream",
          "name": "stderr",
          "text": [
            "\rTiling rows:  90%|█████████ | 37/41 [00:28<00:03,  1.16it/s]"
          ]
        },
        {
          "output_type": "stream",
          "name": "stdout",
          "text": [
            "Skipping blank tile at 9216,5376\n"
          ]
        },
        {
          "output_type": "stream",
          "name": "stderr",
          "text": [
            "\rTiling rows:  93%|█████████▎| 38/41 [00:29<00:02,  1.28it/s]"
          ]
        },
        {
          "output_type": "stream",
          "name": "stdout",
          "text": [
            "Skipping blank tile at 9472,3328\n",
            "Skipping blank tile at 9472,3584\n",
            "Skipping blank tile at 9472,3840\n",
            "Skipping blank tile at 9472,4864\n",
            "Skipping blank tile at 9472,5120\n",
            "Skipping blank tile at 9472,5376\n"
          ]
        },
        {
          "output_type": "stream",
          "name": "stderr",
          "text": [
            "\rTiling rows:  95%|█████████▌| 39/41 [00:29<00:01,  1.47it/s]"
          ]
        },
        {
          "output_type": "stream",
          "name": "stdout",
          "text": [
            "Skipping blank tile at 9728,2816\n",
            "Skipping blank tile at 9728,3072\n",
            "Skipping blank tile at 9728,3328\n",
            "Skipping blank tile at 9728,3584\n",
            "Skipping blank tile at 9728,3840\n",
            "Skipping blank tile at 9728,4096\n",
            "Skipping blank tile at 9728,4352\n",
            "Skipping blank tile at 9728,4608\n",
            "Skipping blank tile at 9728,4864\n",
            "Skipping blank tile at 9728,5120\n",
            "Skipping blank tile at 9728,5376\n"
          ]
        },
        {
          "output_type": "stream",
          "name": "stderr",
          "text": [
            "\rTiling rows:  98%|█████████▊| 40/41 [00:30<00:00,  1.64it/s]"
          ]
        },
        {
          "output_type": "stream",
          "name": "stdout",
          "text": [
            "Skipping blank tile at 9984,2560\n",
            "Skipping blank tile at 9984,2816\n",
            "Skipping blank tile at 9984,3072\n",
            "Skipping blank tile at 9984,3328\n",
            "Skipping blank tile at 9984,3584\n",
            "Skipping blank tile at 9984,3840\n",
            "Skipping blank tile at 9984,4096\n",
            "Skipping blank tile at 9984,4352\n",
            "Skipping blank tile at 9984,4608\n",
            "Skipping blank tile at 9984,4864\n",
            "Skipping blank tile at 9984,5120\n",
            "Skipping blank tile at 9984,5376\n"
          ]
        },
        {
          "output_type": "stream",
          "name": "stderr",
          "text": [
            "Tiling rows: 100%|██████████| 41/41 [00:30<00:00,  1.33it/s]"
          ]
        },
        {
          "output_type": "stream",
          "name": "stdout",
          "text": [
            "Skipping blank tile at 10240,1792\n",
            "Skipping blank tile at 10240,2048\n",
            "Skipping blank tile at 10240,2304\n",
            "Skipping blank tile at 10240,2560\n",
            "Skipping blank tile at 10240,2816\n",
            "Skipping blank tile at 10240,3072\n",
            "Skipping blank tile at 10240,3328\n",
            "Skipping blank tile at 10240,3584\n",
            "Skipping blank tile at 10240,3840\n",
            "Skipping blank tile at 10240,4096\n",
            "Skipping blank tile at 10240,4352\n",
            "Skipping blank tile at 10240,4608\n",
            "Skipping blank tile at 10240,4864\n",
            "Skipping blank tile at 10240,5120\n",
            "Skipping blank tile at 10240,5376\n",
            "Generated 670 tiles\n"
          ]
        },
        {
          "output_type": "stream",
          "name": "stderr",
          "text": [
            "\n"
          ]
        }
      ]
    },
    {
      "cell_type": "code",
      "source": [],
      "metadata": {
        "id": "4zmqSjdJbX5H"
      },
      "execution_count": null,
      "outputs": []
    }
  ]
}